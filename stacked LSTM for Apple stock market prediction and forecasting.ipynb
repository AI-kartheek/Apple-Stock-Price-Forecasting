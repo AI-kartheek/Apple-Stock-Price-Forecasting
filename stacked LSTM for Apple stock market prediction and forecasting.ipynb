{
 "cells": [
  {
   "cell_type": "markdown",
   "metadata": {},
   "source": [
    "### Info\n",
    "* Apple Stock Data had been collected from Date **2016-07-28** to **2021-07-26**"
   ]
  },
  {
   "cell_type": "markdown",
   "metadata": {},
   "source": [
    "### Steps to collect the data::\n",
    "**step-1:** Create an Account at <a href=\"https://www.tiingo.com/\"> Tiingo</a> and Login.\n",
    "\n",
    "**step-2:** Go <a href=\"https://api.tiingo.com/documentation/general/overview\"> here</a> and copy your ``Api Token``\n",
    "\n",
    "**step-3:** Initialize your Api key to the ``key`` variable down below and follow the below steps."
   ]
  },
  {
   "cell_type": "markdown",
   "metadata": {},
   "source": [
    "### Collect Stock Data"
   ]
  },
  {
   "cell_type": "code",
   "execution_count": 5,
   "metadata": {},
   "outputs": [],
   "source": [
    "import pandas_datareader as pdr"
   ]
  },
  {
   "cell_type": "code",
   "execution_count": 28,
   "metadata": {},
   "outputs": [],
   "source": [
    "key = ### YOUR TIINGO API KEY "
   ]
  },
  {
   "cell_type": "code",
   "execution_count": 30,
   "metadata": {},
   "outputs": [
    {
     "data": {
      "text/html": [
       "<div>\n",
       "<style scoped>\n",
       "    .dataframe tbody tr th:only-of-type {\n",
       "        vertical-align: middle;\n",
       "    }\n",
       "\n",
       "    .dataframe tbody tr th {\n",
       "        vertical-align: top;\n",
       "    }\n",
       "\n",
       "    .dataframe thead th {\n",
       "        text-align: right;\n",
       "    }\n",
       "</style>\n",
       "<table border=\"1\" class=\"dataframe\">\n",
       "  <thead>\n",
       "    <tr style=\"text-align: right;\">\n",
       "      <th></th>\n",
       "      <th></th>\n",
       "      <th>close</th>\n",
       "      <th>high</th>\n",
       "      <th>low</th>\n",
       "      <th>open</th>\n",
       "      <th>volume</th>\n",
       "      <th>adjClose</th>\n",
       "      <th>adjHigh</th>\n",
       "      <th>adjLow</th>\n",
       "      <th>adjOpen</th>\n",
       "      <th>adjVolume</th>\n",
       "      <th>divCash</th>\n",
       "      <th>splitFactor</th>\n",
       "    </tr>\n",
       "    <tr>\n",
       "      <th>symbol</th>\n",
       "      <th>date</th>\n",
       "      <th></th>\n",
       "      <th></th>\n",
       "      <th></th>\n",
       "      <th></th>\n",
       "      <th></th>\n",
       "      <th></th>\n",
       "      <th></th>\n",
       "      <th></th>\n",
       "      <th></th>\n",
       "      <th></th>\n",
       "      <th></th>\n",
       "      <th></th>\n",
       "    </tr>\n",
       "  </thead>\n",
       "  <tbody>\n",
       "    <tr>\n",
       "      <th rowspan=\"5\" valign=\"top\">AAPL</th>\n",
       "      <th>2016-07-28 00:00:00+00:00</th>\n",
       "      <td>104.34</td>\n",
       "      <td>104.45</td>\n",
       "      <td>102.82</td>\n",
       "      <td>102.83</td>\n",
       "      <td>39869839</td>\n",
       "      <td>24.364793</td>\n",
       "      <td>24.390480</td>\n",
       "      <td>24.009853</td>\n",
       "      <td>24.012188</td>\n",
       "      <td>159479356</td>\n",
       "      <td>0.0</td>\n",
       "      <td>1.0</td>\n",
       "    </tr>\n",
       "    <tr>\n",
       "      <th>2016-07-29 00:00:00+00:00</th>\n",
       "      <td>104.21</td>\n",
       "      <td>104.55</td>\n",
       "      <td>103.68</td>\n",
       "      <td>104.19</td>\n",
       "      <td>27733688</td>\n",
       "      <td>24.334436</td>\n",
       "      <td>24.413831</td>\n",
       "      <td>24.210674</td>\n",
       "      <td>24.329766</td>\n",
       "      <td>110934752</td>\n",
       "      <td>0.0</td>\n",
       "      <td>1.0</td>\n",
       "    </tr>\n",
       "    <tr>\n",
       "      <th>2016-08-01 00:00:00+00:00</th>\n",
       "      <td>106.05</td>\n",
       "      <td>106.15</td>\n",
       "      <td>104.41</td>\n",
       "      <td>104.41</td>\n",
       "      <td>38167871</td>\n",
       "      <td>24.764101</td>\n",
       "      <td>24.787452</td>\n",
       "      <td>24.381139</td>\n",
       "      <td>24.381139</td>\n",
       "      <td>152671484</td>\n",
       "      <td>0.0</td>\n",
       "      <td>1.0</td>\n",
       "    </tr>\n",
       "    <tr>\n",
       "      <th>2016-08-02 00:00:00+00:00</th>\n",
       "      <td>104.48</td>\n",
       "      <td>106.07</td>\n",
       "      <td>104.00</td>\n",
       "      <td>106.05</td>\n",
       "      <td>33816556</td>\n",
       "      <td>24.397485</td>\n",
       "      <td>24.768771</td>\n",
       "      <td>24.285399</td>\n",
       "      <td>24.764101</td>\n",
       "      <td>135266224</td>\n",
       "      <td>0.0</td>\n",
       "      <td>1.0</td>\n",
       "    </tr>\n",
       "    <tr>\n",
       "      <th>2016-08-03 00:00:00+00:00</th>\n",
       "      <td>105.79</td>\n",
       "      <td>105.84</td>\n",
       "      <td>104.77</td>\n",
       "      <td>104.81</td>\n",
       "      <td>30202641</td>\n",
       "      <td>24.703388</td>\n",
       "      <td>24.715063</td>\n",
       "      <td>24.465204</td>\n",
       "      <td>24.474544</td>\n",
       "      <td>120810564</td>\n",
       "      <td>0.0</td>\n",
       "      <td>1.0</td>\n",
       "    </tr>\n",
       "  </tbody>\n",
       "</table>\n",
       "</div>"
      ],
      "text/plain": [
       "                                   close    high     low    open    volume  \\\n",
       "symbol date                                                                  \n",
       "AAPL   2016-07-28 00:00:00+00:00  104.34  104.45  102.82  102.83  39869839   \n",
       "       2016-07-29 00:00:00+00:00  104.21  104.55  103.68  104.19  27733688   \n",
       "       2016-08-01 00:00:00+00:00  106.05  106.15  104.41  104.41  38167871   \n",
       "       2016-08-02 00:00:00+00:00  104.48  106.07  104.00  106.05  33816556   \n",
       "       2016-08-03 00:00:00+00:00  105.79  105.84  104.77  104.81  30202641   \n",
       "\n",
       "                                   adjClose    adjHigh     adjLow    adjOpen  \\\n",
       "symbol date                                                                    \n",
       "AAPL   2016-07-28 00:00:00+00:00  24.364793  24.390480  24.009853  24.012188   \n",
       "       2016-07-29 00:00:00+00:00  24.334436  24.413831  24.210674  24.329766   \n",
       "       2016-08-01 00:00:00+00:00  24.764101  24.787452  24.381139  24.381139   \n",
       "       2016-08-02 00:00:00+00:00  24.397485  24.768771  24.285399  24.764101   \n",
       "       2016-08-03 00:00:00+00:00  24.703388  24.715063  24.465204  24.474544   \n",
       "\n",
       "                                  adjVolume  divCash  splitFactor  \n",
       "symbol date                                                        \n",
       "AAPL   2016-07-28 00:00:00+00:00  159479356      0.0          1.0  \n",
       "       2016-07-29 00:00:00+00:00  110934752      0.0          1.0  \n",
       "       2016-08-01 00:00:00+00:00  152671484      0.0          1.0  \n",
       "       2016-08-02 00:00:00+00:00  135266224      0.0          1.0  \n",
       "       2016-08-03 00:00:00+00:00  120810564      0.0          1.0  "
      ]
     },
     "execution_count": 30,
     "metadata": {},
     "output_type": "execute_result"
    }
   ],
   "source": [
    "data = pdr.get_data_tiingo('AAPL', api_key= key)\n",
    "data.head()"
   ]
  },
  {
   "cell_type": "code",
   "execution_count": 35,
   "metadata": {},
   "outputs": [],
   "source": [
    "data.to_csv('datasets/Apple Stock Price.csv')"
   ]
  },
  {
   "cell_type": "code",
   "execution_count": null,
   "metadata": {},
   "outputs": [],
   "source": []
  },
  {
   "cell_type": "markdown",
   "metadata": {},
   "source": [
    "### Code Implementation\n",
    "\n",
    "**Table of Contents**\n",
    "1.  [Load Data](#load)\n",
    "2.  [Train Test Split](#split)\n",
    "3.  [Data Sequencing](#seq)\n",
    "4.  [MinMax Scaling](#scale)\n",
    "5.  [Reshape into 3D data](#reshape)\n",
    "6.  [Model Creation](#model)\n",
    "7.  [Load Saved Model](#ld_saved)\n",
    "8.  [Analyse RMSE](#rmse)\n",
    "9.  [Plotting Results](#results)\n",
    "10. [Forecast on future 30 days](#forecast)"
   ]
  },
  {
   "cell_type": "markdown",
   "metadata": {},
   "source": [
    "<a id='load'></a>\n",
    "### Load Data"
   ]
  },
  {
   "cell_type": "code",
   "execution_count": 1,
   "metadata": {},
   "outputs": [],
   "source": [
    "import pandas as pd"
   ]
  },
  {
   "cell_type": "code",
   "execution_count": 2,
   "metadata": {},
   "outputs": [
    {
     "data": {
      "text/html": [
       "<div>\n",
       "<style scoped>\n",
       "    .dataframe tbody tr th:only-of-type {\n",
       "        vertical-align: middle;\n",
       "    }\n",
       "\n",
       "    .dataframe tbody tr th {\n",
       "        vertical-align: top;\n",
       "    }\n",
       "\n",
       "    .dataframe thead th {\n",
       "        text-align: right;\n",
       "    }\n",
       "</style>\n",
       "<table border=\"1\" class=\"dataframe\">\n",
       "  <thead>\n",
       "    <tr style=\"text-align: right;\">\n",
       "      <th></th>\n",
       "      <th>symbol</th>\n",
       "      <th>date</th>\n",
       "      <th>close</th>\n",
       "      <th>high</th>\n",
       "      <th>low</th>\n",
       "      <th>open</th>\n",
       "      <th>volume</th>\n",
       "      <th>adjClose</th>\n",
       "      <th>adjHigh</th>\n",
       "      <th>adjLow</th>\n",
       "      <th>adjOpen</th>\n",
       "      <th>adjVolume</th>\n",
       "      <th>divCash</th>\n",
       "      <th>splitFactor</th>\n",
       "    </tr>\n",
       "  </thead>\n",
       "  <tbody>\n",
       "    <tr>\n",
       "      <th>0</th>\n",
       "      <td>AAPL</td>\n",
       "      <td>2016-07-28 00:00:00+00:00</td>\n",
       "      <td>104.34</td>\n",
       "      <td>104.45</td>\n",
       "      <td>102.82</td>\n",
       "      <td>102.83</td>\n",
       "      <td>39869839</td>\n",
       "      <td>24.364793</td>\n",
       "      <td>24.390480</td>\n",
       "      <td>24.009853</td>\n",
       "      <td>24.012188</td>\n",
       "      <td>159479356</td>\n",
       "      <td>0.0</td>\n",
       "      <td>1.0</td>\n",
       "    </tr>\n",
       "    <tr>\n",
       "      <th>1</th>\n",
       "      <td>AAPL</td>\n",
       "      <td>2016-07-29 00:00:00+00:00</td>\n",
       "      <td>104.21</td>\n",
       "      <td>104.55</td>\n",
       "      <td>103.68</td>\n",
       "      <td>104.19</td>\n",
       "      <td>27733688</td>\n",
       "      <td>24.334436</td>\n",
       "      <td>24.413831</td>\n",
       "      <td>24.210674</td>\n",
       "      <td>24.329766</td>\n",
       "      <td>110934752</td>\n",
       "      <td>0.0</td>\n",
       "      <td>1.0</td>\n",
       "    </tr>\n",
       "    <tr>\n",
       "      <th>2</th>\n",
       "      <td>AAPL</td>\n",
       "      <td>2016-08-01 00:00:00+00:00</td>\n",
       "      <td>106.05</td>\n",
       "      <td>106.15</td>\n",
       "      <td>104.41</td>\n",
       "      <td>104.41</td>\n",
       "      <td>38167871</td>\n",
       "      <td>24.764101</td>\n",
       "      <td>24.787452</td>\n",
       "      <td>24.381139</td>\n",
       "      <td>24.381139</td>\n",
       "      <td>152671484</td>\n",
       "      <td>0.0</td>\n",
       "      <td>1.0</td>\n",
       "    </tr>\n",
       "    <tr>\n",
       "      <th>3</th>\n",
       "      <td>AAPL</td>\n",
       "      <td>2016-08-02 00:00:00+00:00</td>\n",
       "      <td>104.48</td>\n",
       "      <td>106.07</td>\n",
       "      <td>104.00</td>\n",
       "      <td>106.05</td>\n",
       "      <td>33816556</td>\n",
       "      <td>24.397485</td>\n",
       "      <td>24.768771</td>\n",
       "      <td>24.285399</td>\n",
       "      <td>24.764101</td>\n",
       "      <td>135266224</td>\n",
       "      <td>0.0</td>\n",
       "      <td>1.0</td>\n",
       "    </tr>\n",
       "    <tr>\n",
       "      <th>4</th>\n",
       "      <td>AAPL</td>\n",
       "      <td>2016-08-03 00:00:00+00:00</td>\n",
       "      <td>105.79</td>\n",
       "      <td>105.84</td>\n",
       "      <td>104.77</td>\n",
       "      <td>104.81</td>\n",
       "      <td>30202641</td>\n",
       "      <td>24.703388</td>\n",
       "      <td>24.715063</td>\n",
       "      <td>24.465204</td>\n",
       "      <td>24.474544</td>\n",
       "      <td>120810564</td>\n",
       "      <td>0.0</td>\n",
       "      <td>1.0</td>\n",
       "    </tr>\n",
       "  </tbody>\n",
       "</table>\n",
       "</div>"
      ],
      "text/plain": [
       "  symbol                       date   close    high     low    open    volume  \\\n",
       "0   AAPL  2016-07-28 00:00:00+00:00  104.34  104.45  102.82  102.83  39869839   \n",
       "1   AAPL  2016-07-29 00:00:00+00:00  104.21  104.55  103.68  104.19  27733688   \n",
       "2   AAPL  2016-08-01 00:00:00+00:00  106.05  106.15  104.41  104.41  38167871   \n",
       "3   AAPL  2016-08-02 00:00:00+00:00  104.48  106.07  104.00  106.05  33816556   \n",
       "4   AAPL  2016-08-03 00:00:00+00:00  105.79  105.84  104.77  104.81  30202641   \n",
       "\n",
       "    adjClose    adjHigh     adjLow    adjOpen  adjVolume  divCash  splitFactor  \n",
       "0  24.364793  24.390480  24.009853  24.012188  159479356      0.0          1.0  \n",
       "1  24.334436  24.413831  24.210674  24.329766  110934752      0.0          1.0  \n",
       "2  24.764101  24.787452  24.381139  24.381139  152671484      0.0          1.0  \n",
       "3  24.397485  24.768771  24.285399  24.764101  135266224      0.0          1.0  \n",
       "4  24.703388  24.715063  24.465204  24.474544  120810564      0.0          1.0  "
      ]
     },
     "execution_count": 2,
     "metadata": {},
     "output_type": "execute_result"
    }
   ],
   "source": [
    "df = pd.read_csv('datasets/Apple Stock Price.csv')\n",
    "df.head()"
   ]
  },
  {
   "cell_type": "code",
   "execution_count": 3,
   "metadata": {},
   "outputs": [
    {
     "data": {
      "text/html": [
       "<div>\n",
       "<style scoped>\n",
       "    .dataframe tbody tr th:only-of-type {\n",
       "        vertical-align: middle;\n",
       "    }\n",
       "\n",
       "    .dataframe tbody tr th {\n",
       "        vertical-align: top;\n",
       "    }\n",
       "\n",
       "    .dataframe thead th {\n",
       "        text-align: right;\n",
       "    }\n",
       "</style>\n",
       "<table border=\"1\" class=\"dataframe\">\n",
       "  <thead>\n",
       "    <tr style=\"text-align: right;\">\n",
       "      <th></th>\n",
       "      <th>symbol</th>\n",
       "      <th>date</th>\n",
       "      <th>close</th>\n",
       "      <th>high</th>\n",
       "      <th>low</th>\n",
       "      <th>open</th>\n",
       "      <th>volume</th>\n",
       "      <th>adjClose</th>\n",
       "      <th>adjHigh</th>\n",
       "      <th>adjLow</th>\n",
       "      <th>adjOpen</th>\n",
       "      <th>adjVolume</th>\n",
       "      <th>divCash</th>\n",
       "      <th>splitFactor</th>\n",
       "    </tr>\n",
       "  </thead>\n",
       "  <tbody>\n",
       "    <tr>\n",
       "      <th>1252</th>\n",
       "      <td>AAPL</td>\n",
       "      <td>2021-07-20 00:00:00+00:00</td>\n",
       "      <td>146.15</td>\n",
       "      <td>147.0997</td>\n",
       "      <td>142.96</td>\n",
       "      <td>143.460</td>\n",
       "      <td>96350036</td>\n",
       "      <td>146.15</td>\n",
       "      <td>147.0997</td>\n",
       "      <td>142.96</td>\n",
       "      <td>143.460</td>\n",
       "      <td>96350036</td>\n",
       "      <td>0.0</td>\n",
       "      <td>1.0</td>\n",
       "    </tr>\n",
       "    <tr>\n",
       "      <th>1253</th>\n",
       "      <td>AAPL</td>\n",
       "      <td>2021-07-21 00:00:00+00:00</td>\n",
       "      <td>145.40</td>\n",
       "      <td>146.1300</td>\n",
       "      <td>144.63</td>\n",
       "      <td>145.530</td>\n",
       "      <td>74993460</td>\n",
       "      <td>145.40</td>\n",
       "      <td>146.1300</td>\n",
       "      <td>144.63</td>\n",
       "      <td>145.530</td>\n",
       "      <td>74993460</td>\n",
       "      <td>0.0</td>\n",
       "      <td>1.0</td>\n",
       "    </tr>\n",
       "    <tr>\n",
       "      <th>1254</th>\n",
       "      <td>AAPL</td>\n",
       "      <td>2021-07-22 00:00:00+00:00</td>\n",
       "      <td>146.80</td>\n",
       "      <td>148.1950</td>\n",
       "      <td>145.81</td>\n",
       "      <td>145.935</td>\n",
       "      <td>77338156</td>\n",
       "      <td>146.80</td>\n",
       "      <td>148.1950</td>\n",
       "      <td>145.81</td>\n",
       "      <td>145.935</td>\n",
       "      <td>77338156</td>\n",
       "      <td>0.0</td>\n",
       "      <td>1.0</td>\n",
       "    </tr>\n",
       "    <tr>\n",
       "      <th>1255</th>\n",
       "      <td>AAPL</td>\n",
       "      <td>2021-07-23 00:00:00+00:00</td>\n",
       "      <td>148.56</td>\n",
       "      <td>148.7177</td>\n",
       "      <td>146.92</td>\n",
       "      <td>147.550</td>\n",
       "      <td>71447416</td>\n",
       "      <td>148.56</td>\n",
       "      <td>148.7177</td>\n",
       "      <td>146.92</td>\n",
       "      <td>147.550</td>\n",
       "      <td>71447416</td>\n",
       "      <td>0.0</td>\n",
       "      <td>1.0</td>\n",
       "    </tr>\n",
       "    <tr>\n",
       "      <th>1256</th>\n",
       "      <td>AAPL</td>\n",
       "      <td>2021-07-26 00:00:00+00:00</td>\n",
       "      <td>148.99</td>\n",
       "      <td>149.8300</td>\n",
       "      <td>147.70</td>\n",
       "      <td>148.270</td>\n",
       "      <td>72434089</td>\n",
       "      <td>148.99</td>\n",
       "      <td>149.8300</td>\n",
       "      <td>147.70</td>\n",
       "      <td>148.270</td>\n",
       "      <td>72434089</td>\n",
       "      <td>0.0</td>\n",
       "      <td>1.0</td>\n",
       "    </tr>\n",
       "  </tbody>\n",
       "</table>\n",
       "</div>"
      ],
      "text/plain": [
       "     symbol                       date   close      high     low     open  \\\n",
       "1252   AAPL  2021-07-20 00:00:00+00:00  146.15  147.0997  142.96  143.460   \n",
       "1253   AAPL  2021-07-21 00:00:00+00:00  145.40  146.1300  144.63  145.530   \n",
       "1254   AAPL  2021-07-22 00:00:00+00:00  146.80  148.1950  145.81  145.935   \n",
       "1255   AAPL  2021-07-23 00:00:00+00:00  148.56  148.7177  146.92  147.550   \n",
       "1256   AAPL  2021-07-26 00:00:00+00:00  148.99  149.8300  147.70  148.270   \n",
       "\n",
       "        volume  adjClose   adjHigh  adjLow  adjOpen  adjVolume  divCash  \\\n",
       "1252  96350036    146.15  147.0997  142.96  143.460   96350036      0.0   \n",
       "1253  74993460    145.40  146.1300  144.63  145.530   74993460      0.0   \n",
       "1254  77338156    146.80  148.1950  145.81  145.935   77338156      0.0   \n",
       "1255  71447416    148.56  148.7177  146.92  147.550   71447416      0.0   \n",
       "1256  72434089    148.99  149.8300  147.70  148.270   72434089      0.0   \n",
       "\n",
       "      splitFactor  \n",
       "1252          1.0  \n",
       "1253          1.0  \n",
       "1254          1.0  \n",
       "1255          1.0  \n",
       "1256          1.0  "
      ]
     },
     "execution_count": 3,
     "metadata": {},
     "output_type": "execute_result"
    }
   ],
   "source": [
    "df.tail()"
   ]
  },
  {
   "cell_type": "code",
   "execution_count": 4,
   "metadata": {},
   "outputs": [
    {
     "data": {
      "text/plain": [
       "(1257, 14)"
      ]
     },
     "execution_count": 4,
     "metadata": {},
     "output_type": "execute_result"
    }
   ],
   "source": [
    "df.shape"
   ]
  },
  {
   "cell_type": "code",
   "execution_count": 5,
   "metadata": {},
   "outputs": [
    {
     "data": {
      "text/plain": [
       "(1257,)"
      ]
     },
     "execution_count": 5,
     "metadata": {},
     "output_type": "execute_result"
    }
   ],
   "source": [
    "close_df = df['close'] # this is our dependent variable for our stock price \n",
    "\n",
    "close_df.shape"
   ]
  },
  {
   "cell_type": "code",
   "execution_count": 6,
   "metadata": {},
   "outputs": [
    {
     "data": {
      "text/plain": [
       "count    1257.000000\n",
       "mean      186.231333\n",
       "std        72.414174\n",
       "min       103.130000\n",
       "25%       133.500000\n",
       "50%       170.420000\n",
       "75%       209.680000\n",
       "max       506.090000\n",
       "Name: close, dtype: float64"
      ]
     },
     "execution_count": 6,
     "metadata": {},
     "output_type": "execute_result"
    }
   ],
   "source": [
    "close_df.describe()"
   ]
  },
  {
   "cell_type": "code",
   "execution_count": 7,
   "metadata": {},
   "outputs": [],
   "source": [
    "import matplotlib.pyplot as plt\n",
    "%matplotlib inline"
   ]
  },
  {
   "cell_type": "code",
   "execution_count": 8,
   "metadata": {},
   "outputs": [
    {
     "data": {
      "image/png": "[encoded data removed]",
      "text/plain": [
       "<Figure size 432x288 with 1 Axes>"
      ]
     },
     "metadata": {
      "needs_background": "light"
     },
     "output_type": "display_data"
    }
   ],
   "source": [
    "close_df.hist()\n",
    "plt.xlabel('stocks')\n",
    "plt.ylabel('count')\n",
    "plt.title('Distribution of stocks')\n",
    "plt.show()"
   ]
  },
  {
   "cell_type": "markdown",
   "metadata": {},
   "source": [
    "* we can see that huge number of (close) stock price is between **100-200**"
   ]
  },
  {
   "cell_type": "code",
   "execution_count": 9,
   "metadata": {},
   "outputs": [
    {
     "data": {
      "image/png": "[encoded data removed]",
      "text/plain": [
       "<Figure size 432x288 with 1 Axes>"
      ]
     },
     "metadata": {},
     "output_type": "display_data"
    }
   ],
   "source": [
    "# graph visualisation of stock data\n",
    "\n",
    "plt.style.use('ggplot')\n",
    "plt.plot(close_df)\n",
    "plt.xlabel('Index')\n",
    "plt.ylabel('Stock Price(Close)')\n",
    "plt.title('Apple Stock Price(Close)')\n",
    "plt.show()"
   ]
  },
  {
   "cell_type": "markdown",
   "metadata": {},
   "source": [
    "<a id='split'></a>\n",
    "### Train Test Split"
   ]
  },
  {
   "cell_type": "code",
   "execution_count": 10,
   "metadata": {},
   "outputs": [],
   "source": [
    "import numpy as np"
   ]
  },
  {
   "cell_type": "code",
   "execution_count": 11,
   "metadata": {},
   "outputs": [],
   "source": [
    "# splitting dataset into trian and test\n",
    "\n",
    "training_size = int(len(close_df) * 0.65) # 65% train size\n",
    "test_size = len(close_df) - training_size # 35% test size\n",
    "train_data, test_data = close_df[0:training_size], close_df[training_size:] "
   ]
  },
  {
   "cell_type": "code",
   "execution_count": 12,
   "metadata": {},
   "outputs": [
    {
     "data": {
      "text/plain": [
       "(440,)"
      ]
     },
     "execution_count": 12,
     "metadata": {},
     "output_type": "execute_result"
    }
   ],
   "source": [
    "test_data.shape"
   ]
  },
  {
   "cell_type": "code",
   "execution_count": 13,
   "metadata": {},
   "outputs": [
    {
     "data": {
      "text/plain": [
       "(817,)"
      ]
     },
     "execution_count": 13,
     "metadata": {},
     "output_type": "execute_result"
    }
   ],
   "source": [
    "train_data.shape"
   ]
  },
  {
   "cell_type": "markdown",
   "metadata": {},
   "source": [
    "<a id='seq'></a>\n",
    "### Data Sequencing"
   ]
  },
  {
   "cell_type": "code",
   "execution_count": 14,
   "metadata": {},
   "outputs": [],
   "source": [
    "#converting an array of values into a dataset matrix\n",
    "\n",
    "def create_dataset(dataset, time_step=1):\n",
    "    dataX, dataY = [], []\n",
    "    for i in range(len(dataset) - time_step):\n",
    "        a = dataset.iloc[i:(i+time_step)]\n",
    "        dataX.append(a)\n",
    "        dataY.append(dataset.iloc[i + time_step])\n",
    "    return np.array(dataX), np.array(dataY)"
   ]
  },
  {
   "cell_type": "code",
   "execution_count": 15,
   "metadata": {},
   "outputs": [],
   "source": [
    "time_step = 100\n",
    "x_train ,y_train = create_dataset(train_data, time_step)\n",
    "x_test, y_test = create_dataset(test_data, time_step)"
   ]
  },
  {
   "cell_type": "code",
   "execution_count": 16,
   "metadata": {},
   "outputs": [
    {
     "name": "stdout",
     "output_type": "stream",
     "text": [
      "(717, 100)\n"
     ]
    }
   ],
   "source": [
    "print(x_train.shape)"
   ]
  },
  {
   "cell_type": "code",
   "execution_count": 17,
   "metadata": {},
   "outputs": [
    {
     "name": "stdout",
     "output_type": "stream",
     "text": [
      "(717,)\n"
     ]
    }
   ],
   "source": [
    "print(y_train.shape)"
   ]
  },
  {
   "cell_type": "markdown",
   "metadata": {},
   "source": [
    "<a id='scale'></a>\n",
    "### MinMax Scaling\n",
    "* **LSTM's** are very ``sensitive`` to ``scale`` of data so we have to apply minmaxscalar()"
   ]
  },
  {
   "cell_type": "code",
   "execution_count": 18,
   "metadata": {},
   "outputs": [],
   "source": [
    "from sklearn.preprocessing import MinMaxScaler\n",
    "scaler_x = MinMaxScaler(feature_range= (0,1)) \n",
    "scaler_y = MinMaxScaler(feature_range= (0,1)) "
   ]
  },
  {
   "cell_type": "code",
   "execution_count": 19,
   "metadata": {},
   "outputs": [],
   "source": [
    "# fit on train data to scale down in between (0,1)\n",
    "\n",
    "scaled_x_train = scaler_x.fit_transform(x_train)\n",
    "scaled_y_train = scaler_y.fit_transform(y_train.reshape(-1, 1))"
   ]
  },
  {
   "cell_type": "code",
   "execution_count": 20,
   "metadata": {},
   "outputs": [],
   "source": [
    "# transformt the test data\n",
    "\n",
    "scaled_x_test = scaler_x.transform(x_test)\n",
    "scaled_y_test = scaler_y.transform(y_test.reshape(-1, 1))"
   ]
  },
  {
   "cell_type": "markdown",
   "metadata": {},
   "source": [
    "<a id='reshape'></a>\n",
    "### Reshape into 3D data"
   ]
  },
  {
   "cell_type": "code",
   "execution_count": 21,
   "metadata": {},
   "outputs": [
    {
     "name": "stdout",
     "output_type": "stream",
     "text": [
      "(717, 100, 1) (340, 100, 1)\n"
     ]
    }
   ],
   "source": [
    "# reshape input into 3D in order to fit into LSTM\n",
    "\n",
    "scaled_x_train = scaled_x_train.reshape(scaled_x_train.shape + (1,))\n",
    "scaled_x_test = scaled_x_test.reshape(scaled_x_test.shape + (1,))\n",
    "print(scaled_x_train.shape, scaled_x_test.shape)"
   ]
  },
  {
   "cell_type": "markdown",
   "metadata": {},
   "source": [
    "<a id='model'></a>\n",
    "### Model Creation"
   ]
  },
  {
   "cell_type": "code",
   "execution_count": 22,
   "metadata": {},
   "outputs": [
    {
     "name": "stdout",
     "output_type": "stream",
     "text": [
      "2.2.0\n"
     ]
    }
   ],
   "source": [
    "# set the random seed to initialize the same weights at each time we train the model\n",
    "\n",
    "import tensorflow as tf\n",
    "print(tf.__version__)\n",
    "tf.random.set_seed(1)"
   ]
  },
  {
   "cell_type": "code",
   "execution_count": 23,
   "metadata": {},
   "outputs": [],
   "source": [
    "from tensorflow.keras.models import Sequential\n",
    "from tensorflow.keras.layers import Dense\n",
    "from tensorflow.keras.layers import LSTM"
   ]
  },
  {
   "cell_type": "code",
   "execution_count": 24,
   "metadata": {},
   "outputs": [],
   "source": [
    "model = Sequential()\n",
    "model.add(LSTM(50, return_sequences = True, input_shape=(100,1))) # Lstm Layer with Input layer\n",
    "model.add(LSTM(50,return_sequences = True)) # Lstm Layer-2\n",
    "model.add(LSTM(50)) # Lstm Layer-3\n",
    "model.add(Dense(1)) # output layer\n",
    "\n",
    "model.compile(loss='mean_squared_error', optimizer='adam')"
   ]
  },
  {
   "cell_type": "markdown",
   "metadata": {},
   "source": [
    "* while adding more than 1 **LSTM's** we should add an argument ``return_sequences = True`` until we reached last LSTM Layer."
   ]
  },
  {
   "cell_type": "code",
   "execution_count": 25,
   "metadata": {
    "scrolled": true
   },
   "outputs": [
    {
     "name": "stdout",
     "output_type": "stream",
     "text": [
      "Model: \"sequential\"\n",
      "_________________________________________________________________\n",
      "Layer (type)                 Output Shape              Param #   \n",
      "=================================================================\n",
      "lstm (LSTM)                  (None, 100, 50)           10400     \n",
      "_________________________________________________________________\n",
      "lstm_1 (LSTM)                (None, 100, 50)           20200     \n",
      "_________________________________________________________________\n",
      "lstm_2 (LSTM)                (None, 50)                20200     \n",
      "_________________________________________________________________\n",
      "dense (Dense)                (None, 1)                 51        \n",
      "=================================================================\n",
      "Total params: 50,851\n",
      "Trainable params: 50,851\n",
      "Non-trainable params: 0\n",
      "_________________________________________________________________\n"
     ]
    }
   ],
   "source": [
    "model.summary()"
   ]
  },
  {
   "cell_type": "markdown",
   "metadata": {},
   "source": [
    "#### verbose: \n",
    "        0, 1, or 2. Verbosity mode.\n",
    "        0 = silent, 1 = progress bar, 2 = one line per epoch.\n",
    "        Note that the progress bar is not particularly useful when\n",
    "        logged to a file, so verbose=2 is recommended when not running\n",
    "        interactively (eg, in a production environment)."
   ]
  },
  {
   "cell_type": "code",
   "execution_count": 26,
   "metadata": {},
   "outputs": [],
   "source": [
    "# implementing early stopping and model check point \n",
    "\n",
    "from tensorflow.keras.callbacks import EarlyStopping\n",
    "from tensorflow.keras.callbacks import ModelCheckpoint\n",
    "\n",
    "# stop training process if the val_loss of the train data is not decreased after 5 epochs\n",
    "es = EarlyStopping(monitor= \"val_loss\" , min_delta= 0, patience= 5, verbose=1)\n",
    "\n",
    "# do not save the weights until and unless the validation loss is not decreased.\n",
    "mc = ModelCheckpoint(filepath= \"saved models/Stacked LSTM for Apple Stocks.h5\",\n",
    "                     monitor=\"val_loss\", verbose=1, save_best_only= True)"
   ]
  },
  {
   "cell_type": "code",
   "execution_count": 27,
   "metadata": {},
   "outputs": [
    {
     "data": {
      "text/plain": [
       "239.0"
      ]
     },
     "execution_count": 27,
     "metadata": {},
     "output_type": "execute_result"
    }
   ],
   "source": [
    "x_train.shape[0]/3"
   ]
  },
  {
   "cell_type": "code",
   "execution_count": 28,
   "metadata": {
    "scrolled": true
   },
   "outputs": [
    {
     "name": "stdout",
     "output_type": "stream",
     "text": [
      "Epoch 1/100\n",
      "238/239 [============================>.] - ETA: 0s - loss: 0.0096\n",
      "Epoch 00001: val_loss improved from inf to 0.13344, saving model to saved models/Stacked LSTM for Apple Stocks.h5\n",
      "239/239 [==============================] - 11s 44ms/step - loss: 0.0096 - val_loss: 0.1334\n",
      "Epoch 2/100\n",
      "238/239 [============================>.] - ETA: 0s - loss: 0.0039\n",
      "Epoch 00002: val_loss improved from 0.13344 to 0.10543, saving model to saved models/Stacked LSTM for Apple Stocks.h5\n",
      "239/239 [==============================] - 10s 40ms/step - loss: 0.0039 - val_loss: 0.1054\n",
      "Epoch 3/100\n",
      "239/239 [==============================] - ETA: 0s - loss: 0.0028\n",
      "Epoch 00003: val_loss improved from 0.10543 to 0.08787, saving model to saved models/Stacked LSTM for Apple Stocks.h5\n",
      "239/239 [==============================] - 11s 44ms/step - loss: 0.0028 - val_loss: 0.0879\n",
      "Epoch 4/100\n",
      "239/239 [==============================] - ETA: 0s - loss: 0.0020\n",
      "Epoch 00004: val_loss improved from 0.08787 to 0.07478, saving model to saved models/Stacked LSTM for Apple Stocks.h5\n",
      "239/239 [==============================] - 12s 50ms/step - loss: 0.0020 - val_loss: 0.0748\n",
      "Epoch 5/100\n",
      "239/239 [==============================] - ETA: 0s - loss: 0.0019\n",
      "Epoch 00005: val_loss improved from 0.07478 to 0.05721, saving model to saved models/Stacked LSTM for Apple Stocks.h5\n",
      "239/239 [==============================] - 12s 50ms/step - loss: 0.0019 - val_loss: 0.0572\n",
      "Epoch 6/100\n",
      "239/239 [==============================] - ETA: 0s - loss: 0.0018\n",
      "Epoch 00006: val_loss improved from 0.05721 to 0.04286, saving model to saved models/Stacked LSTM for Apple Stocks.h5\n",
      "239/239 [==============================] - 12s 51ms/step - loss: 0.0018 - val_loss: 0.0429\n",
      "Epoch 7/100\n",
      "239/239 [==============================] - ETA: 0s - loss: 0.0013\n",
      "Epoch 00007: val_loss improved from 0.04286 to 0.03453, saving model to saved models/Stacked LSTM for Apple Stocks.h5\n",
      "239/239 [==============================] - 12s 49ms/step - loss: 0.0013 - val_loss: 0.0345\n",
      "Epoch 8/100\n",
      "238/239 [============================>.] - ETA: 0s - loss: 0.0012\n",
      "Epoch 00008: val_loss improved from 0.03453 to 0.03320, saving model to saved models/Stacked LSTM for Apple Stocks.h5\n",
      "239/239 [==============================] - 12s 49ms/step - loss: 0.0012 - val_loss: 0.0332\n",
      "Epoch 9/100\n",
      "239/239 [==============================] - ETA: 0s - loss: 0.0010\n",
      "Epoch 00009: val_loss improved from 0.03320 to 0.03182, saving model to saved models/Stacked LSTM for Apple Stocks.h5\n",
      "239/239 [==============================] - 12s 48ms/step - loss: 0.0010 - val_loss: 0.0318\n",
      "Epoch 10/100\n",
      "239/239 [==============================] - ETA: 0s - loss: 8.8807e-04\n",
      "Epoch 00010: val_loss improved from 0.03182 to 0.02800, saving model to saved models/Stacked LSTM for Apple Stocks.h5\n",
      "239/239 [==============================] - 12s 49ms/step - loss: 8.8807e-04 - val_loss: 0.0280\n",
      "Epoch 11/100\n",
      "239/239 [==============================] - ETA: 0s - loss: 8.5296e-04\n",
      "Epoch 00011: val_loss did not improve from 0.02800\n",
      "239/239 [==============================] - 12s 48ms/step - loss: 8.5296e-04 - val_loss: 0.0317\n",
      "Epoch 12/100\n",
      "238/239 [============================>.] - ETA: 0s - loss: 8.7764e-04\n",
      "Epoch 00012: val_loss did not improve from 0.02800\n",
      "239/239 [==============================] - 12s 48ms/step - loss: 8.7501e-04 - val_loss: 0.0370\n",
      "Epoch 13/100\n",
      "239/239 [==============================] - ETA: 0s - loss: 8.2001e-04\n",
      "Epoch 00013: val_loss did not improve from 0.02800\n",
      "239/239 [==============================] - 12s 49ms/step - loss: 8.2001e-04 - val_loss: 0.0379\n",
      "Epoch 14/100\n",
      "239/239 [==============================] - ETA: 0s - loss: 7.4042e-04\n",
      "Epoch 00014: val_loss did not improve from 0.02800\n",
      "239/239 [==============================] - 12s 49ms/step - loss: 7.4042e-04 - val_loss: 0.0419\n",
      "Epoch 15/100\n",
      "239/239 [==============================] - ETA: 0s - loss: 8.7085e-04\n",
      "Epoch 00015: val_loss did not improve from 0.02800\n",
      "239/239 [==============================] - 12s 48ms/step - loss: 8.7085e-04 - val_loss: 0.0366\n",
      "Epoch 00015: early stopping\n"
     ]
    }
   ],
   "source": [
    "hist = model.fit(scaled_x_train, scaled_y_train, validation_data=(scaled_x_test, scaled_y_test),\n",
    "                 epochs=100, batch_size=3, verbose=1, callbacks=[es,mc])"
   ]
  },
  {
   "cell_type": "code",
   "execution_count": 29,
   "metadata": {},
   "outputs": [
    {
     "name": "stdout",
     "output_type": "stream",
     "text": [
      "dict_keys(['loss', 'val_loss'])\n"
     ]
    }
   ],
   "source": [
    "# list all data in history\n",
    "print(hist.history.keys())  #loss and accuracy belongs to input"
   ]
  },
  {
   "cell_type": "code",
   "execution_count": 30,
   "metadata": {},
   "outputs": [
    {
     "data": {
      "image/png": "[encoded data removed]",
      "text/plain": [
       "<Figure size 432x288 with 1 Axes>"
      ]
     },
     "metadata": {},
     "output_type": "display_data"
    }
   ],
   "source": [
    "# summarize history for loss\n",
    "plt.plot(hist.history['loss'])\n",
    "plt.plot(hist.history['val_loss'])\n",
    "plt.title('model loss')\n",
    "plt.ylabel('loss')\n",
    "plt.xlabel('epoch')\n",
    "plt.legend(['train', 'test'], loc='upper right')\n",
    "plt.show()\n"
   ]
  },
  {
   "cell_type": "markdown",
   "metadata": {},
   "source": [
    "<a id='ld_saved'></a>\n",
    "### Load Saved Model"
   ]
  },
  {
   "cell_type": "code",
   "execution_count": 31,
   "metadata": {},
   "outputs": [],
   "source": [
    "from tensorflow.keras.models import load_model\n",
    "Model = load_model('saved models/Stacked LSTM for Apple Stocks.h5')"
   ]
  },
  {
   "cell_type": "code",
   "execution_count": 32,
   "metadata": {},
   "outputs": [
    {
     "name": "stdout",
     "output_type": "stream",
     "text": [
      "717/717 [==============================] - 6s 8ms/step - loss: 0.0012\n"
     ]
    },
    {
     "data": {
      "text/plain": [
       "0.0011547202011570334"
      ]
     },
     "execution_count": 32,
     "metadata": {},
     "output_type": "execute_result"
    }
   ],
   "source": [
    "## evaluation on train data\n",
    "\n",
    "Model.evaluate(scaled_x_train, scaled_y_train, batch_size=1)"
   ]
  },
  {
   "cell_type": "code",
   "execution_count": 33,
   "metadata": {},
   "outputs": [
    {
     "name": "stdout",
     "output_type": "stream",
     "text": [
      "340/340 [==============================] - 3s 8ms/step - loss: 0.0280\n"
     ]
    },
    {
     "data": {
      "text/plain": [
       "0.028002560138702393"
      ]
     },
     "execution_count": 33,
     "metadata": {},
     "output_type": "execute_result"
    }
   ],
   "source": [
    "## evaluation on test data\n",
    "\n",
    "Model.evaluate(scaled_x_test, scaled_y_test, batch_size=1)"
   ]
  },
  {
   "cell_type": "markdown",
   "metadata": {},
   "source": [
    "<a id='rmse'></a>\n",
    "# Analyse RMSE"
   ]
  },
  {
   "cell_type": "code",
   "execution_count": 34,
   "metadata": {},
   "outputs": [],
   "source": [
    "train_pred = Model.predict(scaled_x_train)\n",
    "test_pred = Model.predict(scaled_x_test)"
   ]
  },
  {
   "cell_type": "code",
   "execution_count": 36,
   "metadata": {},
   "outputs": [],
   "source": [
    "import math\n",
    "from sklearn.metrics import mean_squared_error"
   ]
  },
  {
   "cell_type": "markdown",
   "metadata": {},
   "source": [
    "**RMSE on scaled Data**"
   ]
  },
  {
   "cell_type": "code",
   "execution_count": 37,
   "metadata": {},
   "outputs": [
    {
     "data": {
      "text/plain": [
       "0.16733962895536464"
      ]
     },
     "execution_count": 37,
     "metadata": {},
     "output_type": "execute_result"
    }
   ],
   "source": [
    "## rmse on test data\n",
    "math.sqrt(mean_squared_error(scaled_y_test, test_pred))"
   ]
  },
  {
   "cell_type": "code",
   "execution_count": 38,
   "metadata": {},
   "outputs": [
    {
     "data": {
      "text/plain": [
       "0.033981186301246614"
      ]
     },
     "execution_count": 38,
     "metadata": {},
     "output_type": "execute_result"
    }
   ],
   "source": [
    "## rmse on train data\n",
    "math.sqrt(mean_squared_error(scaled_y_train, train_pred))"
   ]
  },
  {
   "cell_type": "markdown",
   "metadata": {},
   "source": [
    "**RMSE on Inverse-scaled Data**"
   ]
  },
  {
   "cell_type": "code",
   "execution_count": 39,
   "metadata": {},
   "outputs": [],
   "source": [
    "# Transform Prediction data back into original form\n",
    "\n",
    "inv_train_pred = scaler_y.inverse_transform(train_pred)\n",
    "inv_test_pred = scaler_y.inverse_transform(test_pred)"
   ]
  },
  {
   "cell_type": "code",
   "execution_count": 40,
   "metadata": {},
   "outputs": [
    {
     "data": {
      "text/plain": [
       "(717, 1)"
      ]
     },
     "execution_count": 40,
     "metadata": {},
     "output_type": "execute_result"
    }
   ],
   "source": [
    "inv_train_pred.shape"
   ]
  },
  {
   "cell_type": "code",
   "execution_count": 41,
   "metadata": {},
   "outputs": [
    {
     "data": {
      "text/plain": [
       "4.341435548465249"
      ]
     },
     "execution_count": 41,
     "metadata": {},
     "output_type": "execute_result"
    }
   ],
   "source": [
    "# calculate RMSE Performance metrics(Root Mean squared Error) for Train data\n",
    "\n",
    "math.sqrt(mean_squared_error(y_train, inv_train_pred))"
   ]
  },
  {
   "cell_type": "code",
   "execution_count": 42,
   "metadata": {},
   "outputs": [
    {
     "data": {
      "text/plain": [
       "21.379310924839917"
      ]
     },
     "execution_count": 42,
     "metadata": {},
     "output_type": "execute_result"
    }
   ],
   "source": [
    "# RMSE for test data\n",
    "\n",
    "math.sqrt(mean_squared_error(y_test, inv_test_pred))"
   ]
  },
  {
   "cell_type": "markdown",
   "metadata": {},
   "source": [
    "<a id='results'></a>\n",
    "### Plotting Results"
   ]
  },
  {
   "cell_type": "code",
   "execution_count": 43,
   "metadata": {},
   "outputs": [
    {
     "data": {
      "image/png": "[encoded data removed]",
      "text/plain": [
       "<Figure size 720x576 with 1 Axes>"
      ]
     },
     "metadata": {},
     "output_type": "display_data"
    }
   ],
   "source": [
    "### Plotting \n",
    "plt.figure(figsize=(10, 8))\n",
    "\n",
    "# shift train predictions for plotting(orange)\n",
    "look_back=100\n",
    "trainPredictPlot = np.empty_like(close_df)\n",
    "trainPredictPlot[:] = np.nan\n",
    "trainPredictPlot[look_back:len(inv_train_pred)+look_back] = inv_train_pred.reshape(inv_train_pred.shape[0])\n",
    "\n",
    "# shift test predictions for plotting(green)\n",
    "testPredictPlot = np.empty_like(close_df)\n",
    "testPredictPlot[:] = np.nan\n",
    "testPredictPlot[len(inv_train_pred)+(look_back*2):len(close_df)] = inv_test_pred.reshape(inv_test_pred.shape[0])\n",
    "\n",
    "# plot baseline and predictions (blue)\n",
    "plt.plot(close_df, label='Original')\n",
    "plt.plot(trainPredictPlot, label='Train_pred')\n",
    "plt.plot(testPredictPlot, label='Test_pred')\n",
    "\n",
    "plt.title('Results of Stock Price Prediction')\n",
    "plt.xlabel('Days')\n",
    "plt.ylabel('Stock Price(close)')\n",
    "plt.legend(loc='best')\n",
    "plt.show()"
   ]
  },
  {
   "cell_type": "markdown",
   "metadata": {},
   "source": [
    "<a id='forecast'></a>\n",
    "# Forecast on future 30 days"
   ]
  },
  {
   "cell_type": "markdown",
   "metadata": {},
   "source": [
    "**Collect previous 100 days data**"
   ]
  },
  {
   "cell_type": "code",
   "execution_count": 44,
   "metadata": {},
   "outputs": [
    {
     "data": {
      "text/plain": [
       "340"
      ]
     },
     "execution_count": 44,
     "metadata": {},
     "output_type": "execute_result"
    }
   ],
   "source": [
    "len(y_test)"
   ]
  },
  {
   "cell_type": "code",
   "execution_count": 45,
   "metadata": {},
   "outputs": [
    {
     "data": {
      "text/plain": [
       "(1, 100)"
      ]
     },
     "execution_count": 45,
     "metadata": {},
     "output_type": "execute_result"
    }
   ],
   "source": [
    "x_input = y_test[240:].reshape(1,-1)\n",
    "x_input.shape"
   ]
  },
  {
   "cell_type": "code",
   "execution_count": 46,
   "metadata": {},
   "outputs": [],
   "source": [
    "# scale the input data\n",
    "sc_x_input = scaler_y.transform(x_input)"
   ]
  },
  {
   "cell_type": "code",
   "execution_count": 47,
   "metadata": {},
   "outputs": [],
   "source": [
    "temp_input = sc_x_input[0].tolist()"
   ]
  },
  {
   "cell_type": "markdown",
   "metadata": {},
   "source": [
    "**predict for future 30 days**"
   ]
  },
  {
   "cell_type": "code",
   "execution_count": 48,
   "metadata": {
    "scrolled": true
   },
   "outputs": [],
   "source": [
    "n_steps = len(temp_input)\n",
    "for i in range(30):\n",
    "    input_ = temp_input[i:]\n",
    "    input_ = np.array(input_).reshape(1, n_steps, 1)\n",
    "    output = Model.predict(input_)[0][0]\n",
    "    temp_input.append(output)\n",
    "    "
   ]
  },
  {
   "cell_type": "code",
   "execution_count": 49,
   "metadata": {},
   "outputs": [
    {
     "data": {
      "text/plain": [
       "130"
      ]
     },
     "execution_count": 49,
     "metadata": {},
     "output_type": "execute_result"
    }
   ],
   "source": [
    "len(temp_input)"
   ]
  },
  {
   "cell_type": "code",
   "execution_count": 50,
   "metadata": {},
   "outputs": [],
   "source": [
    "# collect numbers for 100 and 30 days\n",
    "day_new = np.arange(1,101)\n",
    "day_pred = np.arange(101,131)"
   ]
  },
  {
   "cell_type": "code",
   "execution_count": 51,
   "metadata": {},
   "outputs": [
    {
     "data": {
      "text/plain": [
       "1257"
      ]
     },
     "execution_count": 51,
     "metadata": {},
     "output_type": "execute_result"
    }
   ],
   "source": [
    "len(close_df)"
   ]
  },
  {
   "cell_type": "code",
   "execution_count": 52,
   "metadata": {},
   "outputs": [
    {
     "data": {
      "image/png": "[encoded data removed]",
      "text/plain": [
       "<Figure size 432x288 with 1 Axes>"
      ]
     },
     "metadata": {},
     "output_type": "display_data"
    }
   ],
   "source": [
    "# Partial Plot in which Blue plot is forecast on 30 days\n",
    "\n",
    "plt.plot(day_new, scaler_y.inverse_transform(np.array(temp_input[:100]).reshape(-1,1)), label='100 days')\n",
    "plt.plot(day_pred, scaler_y.inverse_transform(np.array(temp_input[100:]).reshape(-1,1)), label='30 days')\n",
    "plt.xlabel('Days')\n",
    "plt.ylabel('Stock Price')\n",
    "plt.title('Forecast')\n",
    "plt.legend(loc='best')\n",
    "plt.show()"
   ]
  },
  {
   "cell_type": "code",
   "execution_count": 53,
   "metadata": {},
   "outputs": [
    {
     "data": {
      "image/png": "[encoded data removed]",
      "text/plain": [
       "<Figure size 432x288 with 1 Axes>"
      ]
     },
     "metadata": {},
     "output_type": "display_data"
    }
   ],
   "source": [
    "# Plotting the partial Forecast\n",
    "\n",
    "plt.plot(scaler_y.inverse_transform(np.array(temp_input).reshape(-1,1)))\n",
    "plt.xlabel('Days')\n",
    "plt.ylabel('Stock Price')\n",
    "plt.title('Forecast')\n",
    "plt.show()"
   ]
  },
  {
   "cell_type": "code",
   "execution_count": 54,
   "metadata": {},
   "outputs": [
    {
     "data": {
      "image/png": "[encoded data removed]",
      "text/plain": [
       "<Figure size 432x288 with 1 Axes>"
      ]
     },
     "metadata": {},
     "output_type": "display_data"
    }
   ],
   "source": [
    "# plotting the complete Graph along with 30 days Forecast\n",
    "\n",
    "stock_previous = close_df.to_numpy()\n",
    "stock_30 = scaler_y.inverse_transform(np.array(temp_input[100:]).reshape(1, -1))[0]\n",
    "Total_stock = np.concatenate([stock_previous, stock_30])\n",
    "plt.plot(Total_stock)\n",
    "plt.xlabel('Days')\n",
    "plt.ylabel('Stock Price')\n",
    "plt.title('Complete Stock Price')\n",
    "plt.show()"
   ]
  },
  {
   "cell_type": "code",
   "execution_count": null,
   "metadata": {},
   "outputs": [],
   "source": []
  }
 ],
 "metadata": {
  "kernelspec": {
   "display_name": "Python 3",
   "language": "python",
   "name": "python3"
  },
  "language_info": {
   "codemirror_mode": {
    "name": "ipython",
    "version": 3
   },
   "file_extension": ".py",
   "mimetype": "text/x-python",
   "name": "python",
   "nbconvert_exporter": "python",
   "pygments_lexer": "ipython3",
   "version": "3.8.5"
  }
 },
 "nbformat": 4,
 "nbformat_minor": 4
}
